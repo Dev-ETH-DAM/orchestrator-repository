{
 "cells": [
  {
   "cell_type": "code",
   "execution_count": null,
   "id": "b32fb19a",
   "metadata": {},
   "outputs": [],
   "source": [
    "%pip install torch torchvision torchaudio\n",
    "%pip install transformers\n",
    "%pip install huggingface_hub[hf_xet]\n",
    "%pip install pip install accelerate\n",
    "%pip install datasets\n",
    "%pip install scipy\n",
    "%pip install scikit-learn\n",
    "%pip install numpy\n",
    "%pip install pandas\n",
    "%pip install evaluate"
   ]
  },
  {
   "cell_type": "code",
   "execution_count": 1,
   "id": "d74c9b70",
   "metadata": {},
   "outputs": [
    {
     "name": "stderr",
     "output_type": "stream",
     "text": [
      "C:\\Users\\xander\\AppData\\Roaming\\Python\\Python312\\site-packages\\tqdm\\auto.py:21: TqdmWarning: IProgress not found. Please update jupyter and ipywidgets. See https://ipywidgets.readthedocs.io/en/stable/user_install.html\n",
      "  from .autonotebook import tqdm as notebook_tqdm\n"
     ]
    }
   ],
   "source": [
    "from core.transformer_task import TransformerTask"
   ]
  },
  {
   "cell_type": "code",
   "execution_count": 2,
   "id": "25fb0c39",
   "metadata": {},
   "outputs": [],
   "source": [
    "needed_json_string = \"\"\"\n",
    "{\n",
    "    \"task_type\": \"sentiment-analysis\",\n",
    "    \"model_name\": \"\",\n",
    "    \"dataset_url\": \"\",\n",
    "    \"id_dict\": {},\n",
    "    \"label_dict\": {},\n",
    "    \"batch_size\": 32,\n",
    "    \"train_ds_url\": \"\",\n",
    "    \"test_ds_url\": \"\",\n",
    "    \"ds_text_column\": \"text\",\n",
    "    \"ds_id_column\": \"id\",\n",
    "    \"predict_ds_url\": \"https://raw.githubusercontent.com/AskingAlexander/Datasets/refs/heads/master/sample.csv\"\n",
    "}\n",
    "\"\"\""
   ]
  },
  {
   "cell_type": "code",
   "execution_count": 3,
   "id": "b6f7dc5c",
   "metadata": {},
   "outputs": [],
   "source": [
    "task = TransformerTask()"
   ]
  },
  {
   "cell_type": "code",
   "execution_count": 4,
   "id": "3c758a8e",
   "metadata": {},
   "outputs": [
    {
     "name": "stderr",
     "output_type": "stream",
     "text": [
      "No model was supplied, defaulted to distilbert/distilbert-base-uncased-finetuned-sst-2-english and revision 714eb0f (https://huggingface.co/distilbert/distilbert-base-uncased-finetuned-sst-2-english).\n",
      "Using a pipeline without specifying a model name and revision in production is not recommended.\n",
      "Device set to use cpu\n",
      "No model was supplied, defaulted to distilbert/distilbert-base-uncased-finetuned-sst-2-english and revision 714eb0f (https://huggingface.co/distilbert/distilbert-base-uncased-finetuned-sst-2-english).\n",
      "Using a pipeline without specifying a model name and revision in production is not recommended.\n",
      "Device set to use cpu\n"
     ]
    }
   ],
   "source": [
    "task.set_params(needed_json_string)\n",
    "task.start_working()"
   ]
  },
  {
   "cell_type": "code",
   "execution_count": 5,
   "id": "523317ba",
   "metadata": {},
   "outputs": [
    {
     "data": {
      "text/plain": [
       "({'model_name': None}, {1: 'POSITIVE', 2: 'POSITIVE'})"
      ]
     },
     "execution_count": 5,
     "metadata": {},
     "output_type": "execute_result"
    }
   ],
   "source": [
    "task.get_results()"
   ]
  }
 ],
 "metadata": {
  "kernelspec": {
   "display_name": "Python 3",
   "language": "python",
   "name": "python3"
  },
  "language_info": {
   "codemirror_mode": {
    "name": "ipython",
    "version": 3
   },
   "file_extension": ".py",
   "mimetype": "text/x-python",
   "name": "python",
   "nbconvert_exporter": "python",
   "pygments_lexer": "ipython3",
   "version": "3.12.6"
  }
 },
 "nbformat": 4,
 "nbformat_minor": 5
}
