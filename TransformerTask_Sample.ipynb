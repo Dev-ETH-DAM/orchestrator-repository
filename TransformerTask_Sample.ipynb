{
 "cells": [
  {
   "cell_type": "code",
   "execution_count": null,
   "id": "59363496",
   "metadata": {},
   "outputs": [],
   "source": [
    "%pip install torch torchvision torchaudio\n",
    "%pip install transformers\n",
    "%pip install huggingface_hub[hf_xet]\n",
    "%pip install pip install accelerate\n",
    "%pip install datasets\n",
    "%pip install scipy\n",
    "%pip install scikit-learn\n",
    "%pip install numpy\n",
    "%pip install pandas\n",
    "%pip install evaluate"
   ]
  },
  {
   "cell_type": "code",
   "execution_count": null,
   "id": "9d8a6dd9",
   "metadata": {},
   "outputs": [],
   "source": [
    "from core.transformer_task import TransformerTask"
   ]
  },
  {
   "cell_type": "code",
   "execution_count": null,
   "id": "d89b5b06",
   "metadata": {},
   "outputs": [],
   "source": [
    "needed_json_string = \"\"\"{\n",
    "    \"task_type\": \"sentiment-analysis\",\n",
    "    \"model_name\": \"\",\n",
    "    \"dataset_url\": \"\",\n",
    "    \"id_dict\": {},\n",
    "    \"label_dict\": {},\n",
    "    \"batch_size\": 32,\n",
    "    \"train_ds_url\": \"\",\n",
    "    \"test_ds_url\": \"\",\n",
    "    \"ds_text_column\": \"text\",\n",
    "    \"ds_id_column\": \"id\",\n",
    "    \"predict_ds_url\": \"https://raw.githubusercontent.com/AskingAlexander/Datasets/refs/heads/master/sample.csv\"\n",
    "}\"\"\""
   ]
  },
  {
   "cell_type": "code",
   "execution_count": null,
   "id": "ccd2f0c9",
   "metadata": {},
   "outputs": [],
   "source": [
    "task = TransformerTask()"
   ]
  },
  {
   "cell_type": "code",
   "execution_count": null,
   "id": "7ac78ff2",
   "metadata": {},
   "outputs": [],
   "source": [
    "task.set_params(needed_json_string)"
   ]
  },
  {
   "cell_type": "code",
   "execution_count": null,
   "id": "88f1f251",
   "metadata": {},
   "outputs": [],
   "source": [
    "task.start_working()"
   ]
  },
  {
   "cell_type": "code",
   "execution_count": null,
   "id": "8ddf3c2f",
   "metadata": {},
   "outputs": [],
   "source": [
    "task.get_results()"
   ]
  }
 ],
 "metadata": {
  "kernelspec": {
   "display_name": "Python 3",
   "language": "python",
   "name": "python3"
  },
  "language_info": {
   "codemirror_mode": {
    "name": "ipython",
    "version": 3
   },
   "file_extension": ".py",
   "mimetype": "text/x-python",
   "name": "python",
   "nbconvert_exporter": "python",
   "pygments_lexer": "ipython3",
   "version": "3.12.6"
  }
 },
 "nbformat": 4,
 "nbformat_minor": 5
}
